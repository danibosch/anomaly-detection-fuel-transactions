{
  "nbformat": 4,
  "nbformat_minor": 0,
  "metadata": {
    "colab": {
      "provenance": [],
      "collapsed_sections": [],
      "authorship_tag": "ABX9TyM0KmLxlm/SAgfKx2Ugfyaf"
    },
    "kernelspec": {
      "name": "python3",
      "display_name": "Python 3"
    },
    "language_info": {
      "name": "python"
    }
  },
  "cells": [
    {
      "cell_type": "markdown",
      "source": [
        "<small>Mentoría de la Diplomatura en Ciencia de Datos y sus Aplicaciones - FaMAF UNC 2022.</small>\n",
        "# Detección de anomalías en despachos de combustible\n",
        "\n",
        "## Práctico de Aprendizaje no supervisado\n",
        "\n",
        "**Mentora:** Daniela Bosch\n",
        "\n",
        "**Integrantes:**\n",
        "\n",
        "### Introducción\n",
        "\n",
        "En este trabajo buscamos identificar anomalías utilizando técnicas no supervisadas.\n",
        "\n",
        "Los datos con la descripción de cada una de sus columnas puede encontrarse en el siguiente link: https://www.kaggle.com/datasets/danielabosch/fuel-transactions-from-gas-pump\n",
        "\n",
        "#### Objetivos del práctico\n",
        "\n",
        "- Utilizar técnicas no supervisadas para detectar anomalías.\n",
        "- Comparar las distintas estrategias utilizadas en todos los prácticos.\n"
      ],
      "metadata": {
        "id": "djgok9GUdaNl"
      }
    },
    {
      "cell_type": "markdown",
      "source": [
        "### Consignas\n",
        "\n",
        "Se proponen una actividad de base y una actividad opcional utilizando otras técnicas no supervisadas. Realizar una breve conclusión sobre los resultados obtenidos."
      ],
      "metadata": {
        "id": "eJGu722BBBzG"
      }
    },
    {
      "cell_type": "markdown",
      "source": [
        "#### 1. Algoritmos de detección de anomalías\n",
        "\n",
        "Algunos sugeridos pueden ser: Isolation Forest, Robust Covariance, Local Outlier Factor. https://scikit-learn.org/stable/modules/outlier_detection.html#overview-of-outlier-detection-methods\n",
        "\n",
        "- Probar uno o más algoritmos de detección de anomalías.\n",
        "- Ajustar con distintos hiperparámetros.\n",
        "- Comparar resultados."
      ],
      "metadata": {
        "id": "W9q5SEhaBD3y"
      }
    },
    {
      "cell_type": "code",
      "source": [],
      "metadata": {
        "id": "C5-yue_z4W3Q"
      },
      "execution_count": null,
      "outputs": []
    },
    {
      "cell_type": "markdown",
      "source": [
        "#### (Opcional) 2. Detección de anomalías utilizando técnicas de Clustering\n",
        "\n",
        "Otra de las técnicas bastante utilizadas para detectar anomalías es utilizar algoritmos de clustering. Aquellos puntos que no pertenezcan a un cluster podrían considerarse como anomalías."
      ],
      "metadata": {
        "id": "ZKyAs__HA-Tc"
      }
    },
    {
      "cell_type": "code",
      "source": [],
      "metadata": {
        "id": "ZHcWOPUWBBUv"
      },
      "execution_count": null,
      "outputs": []
    },
    {
      "cell_type": "markdown",
      "source": [
        "#### (Opcional) 3. Detección de anomalías utilizando Forecasting\n",
        "\n",
        "Otra estrategia que puede utilizarse es la predicción de datos futuros con el agregado de ruido blanco y su comparación con datos reales. Una librería muy simple de utilizar es `fbprophet`, la cual permite ajustar hiperparámetros que afectan la estacionalidad de la serie.\n",
        "\n"
      ],
      "metadata": {
        "id": "YTyrdDJKdzKF"
      }
    },
    {
      "cell_type": "code",
      "source": [
        "# Etapa 1: predecir datos\n",
        "from fbprophet import Prophet\n",
        "\n",
        "m = Prophet(\n",
        "    daily_seasonality=True, \n",
        "    yearly_seasonality=False, \n",
        "    weekly_seasonality=False,\n",
        "    seasonality_mode='additive',\n",
        "    interval_width=0.9,\n",
        "    changepoint_range=0.8\n",
        ")\n",
        "# m = m.fit(df)\n",
        "# forecast = m.predict(df)\n",
        "# forecast['fact'] = df['y'].reset_index(drop=True)"
      ],
      "metadata": {
        "id": "5oKkWz3L0N80"
      },
      "execution_count": null,
      "outputs": []
    },
    {
      "cell_type": "code",
      "source": [
        "# Etapa 2: detectar anomalías respecto a resultados"
      ],
      "metadata": {
        "id": "_ti3U-vS9p7m"
      },
      "execution_count": null,
      "outputs": []
    },
    {
      "cell_type": "markdown",
      "source": [
        "### Entregable\n",
        "\n",
        "Se propone la elaboración de un informe que deberá entregarse en formato de notebook tipo Jupyter o Google Colaboratory, con los resultados guardados, gráficos, notas y conclusiones. El mismo deberá apuntar a un público técnico, pero sin conocimientos específicos en el tema.\n",
        "\n",
        "**Fecha de entrega: 26/08/2022**"
      ],
      "metadata": {
        "id": "lES1-wl6EAMv"
      }
    },
    {
      "cell_type": "markdown",
      "source": [
        "### Enlaces útiles\n",
        "- https://scikit-learn.org/stable/modules/outlier_detection.html\n",
        "- https://towardsdatascience.com/outliers-analysis-a-quick-guide-to-the-different-types-of-outliers-e41de37e6bf6\n",
        "- https://neptune.ai/blog/anomaly-detection-in-time-series"
      ],
      "metadata": {
        "id": "cKL75SIKGilo"
      }
    }
  ]
}