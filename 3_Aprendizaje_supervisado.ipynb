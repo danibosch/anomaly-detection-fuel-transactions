{
  "nbformat": 4,
  "nbformat_minor": 0,
  "metadata": {
    "colab": {
      "name": "3. Aprendizaje supervisado.ipynb",
      "provenance": []
    },
    "kernelspec": {
      "name": "python3",
      "display_name": "Python 3"
    },
    "language_info": {
      "name": "python"
    }
  },
  "cells": [
    {
      "cell_type": "markdown",
      "source": [
        "<small>Mentoría de la Diplomatura en Ciencia de Datos y sus Aplicaciones - FaMAF UNC 2022.</small>\n",
        "# Detección de anomalías en despachos de combustible\n",
        "\n",
        "## Práctico de Aprendizaje Supervisado\n",
        "\n",
        "**Mentora:** Daniela Bosch\n",
        "\n",
        "**Integrantes:**\n",
        "\n",
        "### Introducción\n",
        "\n",
        "En este trabajo tiene como objetivo identificar anomalías utilizando técnicas de aprendizaje supervisado. Nuestros datos originalmente no se encuentra etiquetados, por lo tanto, necesitaremos etiquetarlos utilizando ciertos criterios.\n",
        "\n",
        "Los datos con la descripción de cada una de sus columnas puede encontrarse en el siguiente link: https://www.kaggle.com/datasets/danielabosch/fuel-transactions-from-gas-pump\n",
        "\n",
        "#### Objetivos del práctico\n",
        "\n",
        "- Utilizar técnicas supervisadas para detectar transacciones anómalas.\n"
      ],
      "metadata": {
        "id": "djgok9GUdaNl"
      }
    },
    {
      "cell_type": "markdown",
      "source": [
        "### Consignas\n",
        "\n",
        "Se proponen dos actividades de base y una actividad opcional. Realizar una breve conclusión sobre los resultados obtenidos."
      ],
      "metadata": {
        "id": "eJGu722BBBzG"
      }
    },
    {
      "cell_type": "markdown",
      "source": [
        "#### 1. Target `codigo_error`\n",
        "\n",
        "Para poder clasificar las transacciones entre anómalas o no, necesitaremos etiquetar las datos utilizando como target los errores conocidos, tales como códigos de error, transacciones con valores numéricos erróneos, etc.\n",
        "\n",
        "a. Utilizaremos el código de error para detectar las transacciones anómalas.\n",
        "- Transformar la columna `codigo_error` en el target de acuerdo al siguiente criterio (sugerido):\n",
        "\n",
        "|`codigo_error`| Anómalo? |\n",
        "|-|-|\n",
        "| 00     | Sí |\n",
        "| B0     | Sí |\n",
        "| B1     | Sí |\n",
        "| BA     | Sí |\n",
        "| BD     | No |\n",
        "| BE     | No |\n",
        "| BF     | No | \n",
        "| C0     | No |\n",
        "| C1     | No |\n",
        "| C2     | No |\n",
        "| C4     | No |\n",
        "| C6     | Sí |\n",
        "| ES     | No | \n",
        "| H1     | No |\n",
        "| H2     | No |\n",
        "| H3     | Sí |\n",
        "| H4     | Sí |\n",
        "| H5     | Sí |\n",
        "| PR     | Sí |\n",
        "| RC     | No |\n",
        "| RS     | No |\n",
        "| UE     | Sí |\n",
        "| UL     | Sí |\n",
        "| ER     | No |\n",
        "| E1     | Sí |\n",
        "| U0     | Sí |\n",
        "| U1     | Sí |\n",
        "| U2     | Sí |\n",
        "| U3     | Sí |\n",
        "| U4     | Sí |  \n",
        "| U5     | Sí |  \n",
        "| U6     | Sí |  \n",
        "| U7     | Sí |\n",
        "| U8     | Sí |\n",
        "| U9     | Sí |\n",
        "| BR     | Sí | \n",
        "| UD     | No |\n",
        "| BL     | Sí | \n",
        "| MN     | No |\n",
        "\n"
      ],
      "metadata": {
        "id": "W9q5SEhaBD3y"
      }
    },
    {
      "cell_type": "code",
      "source": [
        ""
      ],
      "metadata": {
        "id": "zjiOck9xk7in"
      },
      "execution_count": null,
      "outputs": []
    },
    {
      "cell_type": "markdown",
      "source": [
        "#### 2. Aprendizaje supervisado\n",
        "\n",
        "- Separar el dataset en datos de entrenamiento y datos de test.\n",
        "- Elegir distintos estimadores para clasificar las transacciones en anómalas. Probar distintos hiperparámetros. Comparar los resultados entre ellos.\n",
        "- Obtener las métricas que crean convenientes y realizar conclusiones. ¿Qué podemos observar de los falsos positivos? ¿Qué podemos ver de los falsos negativos?"
      ],
      "metadata": {
        "id": "OEf9dZhxk8rJ"
      }
    },
    {
      "cell_type": "code",
      "source": [
        ""
      ],
      "metadata": {
        "id": "5oKkWz3L0N80"
      },
      "execution_count": null,
      "outputs": []
    },
    {
      "cell_type": "markdown",
      "source": [
        "#### 3. (Opcional) Target otras columnas \n",
        "\n",
        "- Realizar el mismo procedimiento de los pasos 1 y 2 utilizando ahora otras columnas para generar la columna target. Ej. transacciones con cantidad 0."
      ],
      "metadata": {
        "id": "ZttKr1gUNVwd"
      }
    },
    {
      "cell_type": "code",
      "source": [
        ""
      ],
      "metadata": {
        "id": "2OnZTQjPNWZM"
      },
      "execution_count": null,
      "outputs": []
    },
    {
      "cell_type": "markdown",
      "source": [
        "### Entregable\n",
        "\n",
        "Se propone la elaboración de un informe que deberá entregarse en formato de notebook tipo Jupyter o Google Colaboratory, con los resultados guardados, gráficos, notas y conclusiones. El mismo deberá apuntar a un público técnico, pero sin conocimientos específicos en el tema.\n",
        "\n",
        "**Fecha de entrega: 29/07/2022**"
      ],
      "metadata": {
        "id": "lES1-wl6EAMv"
      }
    },
    {
      "cell_type": "markdown",
      "source": [
        "### Enlaces útiles\n",
        "- https://neptune.ai/blog/anomaly-detection-in-time-series"
      ],
      "metadata": {
        "id": "cKL75SIKGilo"
      }
    }
  ]
}